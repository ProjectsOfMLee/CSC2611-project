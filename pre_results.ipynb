{
 "cells": [
  {
   "cell_type": "code",
   "execution_count": 37,
   "metadata": {},
   "outputs": [],
   "source": [
    "from collections import Counter\n",
    "\n",
    "import numpy as np\n",
    "\n",
    "corpus1 = open(\"/Users/horus/PycharmProjects/SemanticProj/data_augmented/1994.txt\", \"r\").read().split(\" \")\n",
    "corpus1.append(open(\"/Users/horus/PycharmProjects/SemanticProj/data_augmented/2020.txt\", \"r\").read().split(\" \"))\n",
    "corpus2 = open(\"/Users/horus/PycharmProjects/SemanticProj/compare_matsci/data_augmented/1994.txt\", \"r\").read().split(\" \")\n",
    "corpus2.append(open(\"/Users/horus/PycharmProjects/SemanticProj/compare_matsci/data_augmented/2020.txt\", \"r\").read().split(\" \"))\n",
    "corpus1 = list(filter(lambda x: type(x) is not list, corpus1))\n",
    "corpus2 = list(filter(lambda x: type(x) is not list, corpus2))\n",
    "d1 = Counter(corpus1)\n",
    "d2 = Counter(corpus2)"
   ]
  },
  {
   "cell_type": "code",
   "execution_count": 40,
   "outputs": [
    {
     "data": {
      "text/plain": "202"
     },
     "execution_count": 40,
     "metadata": {},
     "output_type": "execute_result"
    }
   ],
   "source": [
    "corpus1 = list(filter(lambda x: d1[x] > 1000, corpus1))\n",
    "corpus2 = list(filter(lambda x: d2[x] > 1000, corpus2))\n",
    "common = set(corpus1).intersection(set(corpus2))\n",
    "len(common)"
   ],
   "metadata": {
    "collapsed": false
   }
  },
  {
   "cell_type": "code",
   "execution_count": 54,
   "outputs": [],
   "source": [
    "words = list(common)[1:]"
   ],
   "metadata": {
    "collapsed": false
   }
  },
  {
   "cell_type": "code",
   "execution_count": 99,
   "metadata": {},
   "outputs": [],
   "source": [
    "from gensim.models.word2vec import Word2Vec\n",
    "\n",
    "cs_model_94 = Word2Vec.load(\"/Users/horus/PycharmProjects/SemanticProj/model/1994.model\")\n",
    "cs_model_20 = Word2Vec.load(\"/Users/horus/PycharmProjects/SemanticProj/model/2020.model\")\n",
    "mt_model_94 = Word2Vec.load(\"/Users/horus/PycharmProjects/SemanticProj/compare_matsci/model/1994.model\")\n",
    "mt_model_20 = Word2Vec.load(\"/Users/horus/PycharmProjects/SemanticProj/compare_matsci/model/2020.model\")\n",
    "en_model_94 = Word2Vec.load(\"/Users/horus/PycharmProjects/SemanticProj/compare_engi/model/1994.model\")\n",
    "en_model_20 = Word2Vec.load(\"/Users/horus/PycharmProjects/SemanticProj/compare_engi/model/2020.model\")"
   ]
  },
  {
   "cell_type": "markdown",
   "metadata": {},
   "source": [
    "https://scikit-learn.org/stable/modules/generated/sklearn.metrics.jaccard_score.html"
   ]
  },
  {
   "cell_type": "code",
   "execution_count": 105,
   "metadata": {},
   "outputs": [],
   "source": [
    "def ratio_of_same_semantic_neighbors(word, model1, model2, k = 50):\n",
    "    #if word in model1.vocabulary and word in model2.vocabulary:\n",
    "    ls1 = model1.wv.most_similar(word, topn=k)\n",
    "    ls2 = model2.wv.most_similar(word, topn=k)\n",
    "    semantic_neighbors1 = set(map(lambda x: x[0], ls1))\n",
    "    semantic_neighbors2 = set(map(lambda x: x[0], ls2))\n",
    "    ratio = len(semantic_neighbors1.intersection(semantic_neighbors2)) / k\n",
    "    return ratio"
   ]
  },
  {
   "cell_type": "code",
   "execution_count": 106,
   "outputs": [
    {
     "data": {
      "text/plain": "(0.16, 0.04)"
     },
     "execution_count": 106,
     "metadata": {},
     "output_type": "execute_result"
    }
   ],
   "source": [
    "ratio_of_same_semantic_neighbors(\"deep\", cs_model_94, en_model_94), ratio_of_same_semantic_neighbors(\"deep\", cs_model_20, en_model_20)"
   ],
   "metadata": {
    "collapsed": false
   }
  },
  {
   "cell_type": "code",
   "execution_count": 131,
   "outputs": [
    {
     "data": {
      "text/plain": "<Figure size 1600x800 with 1 Axes>",
      "image/png": "[encoded data removed]"
     },
     "metadata": {},
     "output_type": "display_data"
    }
   ],
   "source": [
    "import numpy as np\n",
    "import matplotlib.pyplot as plt\n",
    "\n",
    "\n",
    "#X = words[:6]\n",
    "X = [\"deep\", \"construct\", \"build\", \"develop\", \"pipeline\", \"data\", \"research\", \"cost\", \"problem\"]\n",
    "y1 = [] # 1994\n",
    "y2 = [] # 2020\n",
    "for word in X:\n",
    "    y1.append(ratio_of_same_semantic_neighbors(word, cs_model_94, en_model_94))\n",
    "    y2.append(ratio_of_same_semantic_neighbors(word, cs_model_20, en_model_20))\n",
    "X_axis = np.arange(len(X))\n",
    "\n",
    "plt.figure(figsize=(16,8))\n",
    "plt.bar(X_axis - 0.2, y1, 0.4, label = \"1994\")\n",
    "plt.bar(X_axis + 0.2, y2, 0.4, label = \"2020\")\n",
    "plt.xticks(X_axis, X)\n",
    "plt.xlabel(\"Year\")\n",
    "plt.ylabel(\"Ratio of Identical Semantic Neighbors\")\n",
    "#plt.title(\"The \")\n",
    "plt.legend()\n",
    "plt.show()"
   ],
   "metadata": {
    "collapsed": false
   }
  },
  {
   "cell_type": "code",
   "execution_count": null,
   "metadata": {},
   "outputs": [],
   "source": [
    "\"\"\"\n",
    "import seaborn as sns\n",
    "\n",
    "sns.set_style(\"white\")\n",
    "sns.set_palette(\"pastel\") # \"cubehelix\"\n",
    "\n",
    "g = sns.catplot(data=df, x=\"year\", y=\"ratio\", col=\"word\", kind=\"bar\"\n",
    "            #, height=\n",
    "            )\n",
    "\n",
    "#g.set_titles(\"\")\n",
    "g.set_axis_labels(\"year\", \"ratio of identical neighbors\")\n",
    "g.set_xticklabels([\"1994\", \"2020\"])\n",
    "g.set_titles(\"{col_name} {col_var}\")\n",
    "g.set(ylim = (0, 0.5))\n",
    "#g.despine(left=True)\n",
    "\n",
    "def plot_results():\n",
    "    pass\n",
    "\"\"\""
   ]
  }
 ],
 "metadata": {
  "kernelspec": {
   "display_name": "Python 3 (ipykernel)",
   "language": "python",
   "name": "python3"
  },
  "language_info": {
   "codemirror_mode": {
    "name": "ipython",
    "version": 3
   },
   "file_extension": ".py",
   "mimetype": "text/x-python",
   "name": "python",
   "nbconvert_exporter": "python",
   "pygments_lexer": "ipython3",
   "version": "3.9.13"
  }
 },
 "nbformat": 4,
 "nbformat_minor": 1
}

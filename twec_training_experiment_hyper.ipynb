{
 "cells": [
  {
   "cell_type": "code",
   "execution_count": 1,
   "metadata": {},
   "outputs": [
    {
     "name": "stdout",
     "output_type": "stream",
     "text": [
      "Training the compass.\n",
      "Compass will be overwritten after training\n",
      "Training temporal embeddings: slice /Users/horus/Library/CloudStorage/OneDrive-UniversityofToronto/CSC2611-NLPSC-Project/data/1994.txt.\n",
      "Initializing temporal embeddings from the atemporal compass.\n",
      "Training temporal embeddings: slice /Users/horus/Library/CloudStorage/OneDrive-UniversityofToronto/CSC2611-NLPSC-Project/data/2021.txt.\n",
      "Initializing temporal embeddings from the atemporal compass.\n"
     ]
    }
   ],
   "source": [
    "from twec.twec import TWEC\n",
    "from gensim.models.word2vec import Word2Vec\n",
    "\n",
    "\n",
    "PATH = \"/Users/horus/Library/CloudStorage/OneDrive-UniversityofToronto/CSC2611-NLPSC-Project/\"\n",
    "aligner = TWEC(size=30\n",
    "               , siter=10\n",
    "               , diter=10\n",
    "               , workers=4\n",
    "              )\n",
    "\n",
    "aligner.train_compass(PATH + \"data/compass.txt\"\n",
    "                      , overwrite=True\n",
    "                     ) \n",
    "\n",
    "m94 = aligner.train_slice(PATH + \"data/1994.txt\"\n",
    "                          , save=True\n",
    "                         )\n",
    "m21 = aligner.train_slice(PATH + \"data/2021.txt\"\n",
    "                          , save=True\n",
    "                         )"
   ]
  },
  {
   "cell_type": "code",
   "execution_count": 4,
   "metadata": {},
   "outputs": [],
   "source": [
    "def train_twec_and_save(year, data_path, overwrite=False\n",
    "               , size=30 #\n",
    "               , siter=10 #\n",
    "               , diter=10 #\n",
    "               , workers=4 #\n",
    "              ):\n",
    "    \"\"\"\n",
    "    year: str\n",
    "    data_path: the path to the data file that holds all data\n",
    "    \"\"\"\n",
    "    aligner = TWEC(size, siter, diter, workers)\n",
    "    aligner.train_compass(data_path + \"compass.txt\", overwrite)\n",
    "    model = aligner.train_slice(data_path + year + \".txt\", save=True)\n",
    "    model.save(data_path + \"model/\" + year + \".model\")"
   ]
  },
  {
   "cell_type": "code",
   "execution_count": 5,
   "metadata": {
    "collapsed": true
   },
   "outputs": [
    {
     "name": "stdout",
     "output_type": "stream",
     "text": [
      "Compass loaded from file.\n",
      "Training temporal embeddings: slice /Users/horus/Library/CloudStorage/OneDrive-UniversityofToronto/CSC2611-NLPSC-Project/data/1994.txt.\n",
      "Initializing temporal embeddings from the atemporal compass.\n",
      "Compass loaded from file.\n",
      "Training temporal embeddings: slice /Users/horus/Library/CloudStorage/OneDrive-UniversityofToronto/CSC2611-NLPSC-Project/data/1995.txt.\n",
      "Initializing temporal embeddings from the atemporal compass.\n",
      "Compass loaded from file.\n",
      "Training temporal embeddings: slice /Users/horus/Library/CloudStorage/OneDrive-UniversityofToronto/CSC2611-NLPSC-Project/data/1996.txt.\n",
      "Initializing temporal embeddings from the atemporal compass.\n",
      "Compass loaded from file.\n",
      "Training temporal embeddings: slice /Users/horus/Library/CloudStorage/OneDrive-UniversityofToronto/CSC2611-NLPSC-Project/data/1997.txt.\n",
      "Initializing temporal embeddings from the atemporal compass.\n",
      "Compass loaded from file.\n",
      "Training temporal embeddings: slice /Users/horus/Library/CloudStorage/OneDrive-UniversityofToronto/CSC2611-NLPSC-Project/data/1998.txt.\n",
      "Initializing temporal embeddings from the atemporal compass.\n",
      "Compass loaded from file.\n",
      "Training temporal embeddings: slice /Users/horus/Library/CloudStorage/OneDrive-UniversityofToronto/CSC2611-NLPSC-Project/data/1999.txt.\n",
      "Initializing temporal embeddings from the atemporal compass.\n",
      "Compass loaded from file.\n",
      "Training temporal embeddings: slice /Users/horus/Library/CloudStorage/OneDrive-UniversityofToronto/CSC2611-NLPSC-Project/data/2000.txt.\n",
      "Initializing temporal embeddings from the atemporal compass.\n",
      "Compass loaded from file.\n",
      "Training temporal embeddings: slice /Users/horus/Library/CloudStorage/OneDrive-UniversityofToronto/CSC2611-NLPSC-Project/data/2001.txt.\n",
      "Initializing temporal embeddings from the atemporal compass.\n",
      "Compass loaded from file.\n",
      "Training temporal embeddings: slice /Users/horus/Library/CloudStorage/OneDrive-UniversityofToronto/CSC2611-NLPSC-Project/data/2002.txt.\n",
      "Initializing temporal embeddings from the atemporal compass.\n",
      "Compass loaded from file.\n",
      "Training temporal embeddings: slice /Users/horus/Library/CloudStorage/OneDrive-UniversityofToronto/CSC2611-NLPSC-Project/data/2003.txt.\n",
      "Initializing temporal embeddings from the atemporal compass.\n",
      "Compass loaded from file.\n",
      "Training temporal embeddings: slice /Users/horus/Library/CloudStorage/OneDrive-UniversityofToronto/CSC2611-NLPSC-Project/data/2004.txt.\n",
      "Initializing temporal embeddings from the atemporal compass.\n",
      "Compass loaded from file.\n",
      "Training temporal embeddings: slice /Users/horus/Library/CloudStorage/OneDrive-UniversityofToronto/CSC2611-NLPSC-Project/data/2005.txt.\n",
      "Initializing temporal embeddings from the atemporal compass.\n",
      "Compass loaded from file.\n",
      "Training temporal embeddings: slice /Users/horus/Library/CloudStorage/OneDrive-UniversityofToronto/CSC2611-NLPSC-Project/data/2006.txt.\n",
      "Initializing temporal embeddings from the atemporal compass.\n",
      "Compass loaded from file.\n",
      "Training temporal embeddings: slice /Users/horus/Library/CloudStorage/OneDrive-UniversityofToronto/CSC2611-NLPSC-Project/data/2007.txt.\n",
      "Initializing temporal embeddings from the atemporal compass.\n",
      "Compass loaded from file.\n",
      "Training temporal embeddings: slice /Users/horus/Library/CloudStorage/OneDrive-UniversityofToronto/CSC2611-NLPSC-Project/data/2008.txt.\n",
      "Initializing temporal embeddings from the atemporal compass.\n",
      "Compass loaded from file.\n",
      "Training temporal embeddings: slice /Users/horus/Library/CloudStorage/OneDrive-UniversityofToronto/CSC2611-NLPSC-Project/data/2009.txt.\n",
      "Initializing temporal embeddings from the atemporal compass.\n",
      "Compass loaded from file.\n",
      "Training temporal embeddings: slice /Users/horus/Library/CloudStorage/OneDrive-UniversityofToronto/CSC2611-NLPSC-Project/data/2010.txt.\n",
      "Initializing temporal embeddings from the atemporal compass.\n",
      "Compass loaded from file.\n",
      "Training temporal embeddings: slice /Users/horus/Library/CloudStorage/OneDrive-UniversityofToronto/CSC2611-NLPSC-Project/data/2011.txt.\n",
      "Initializing temporal embeddings from the atemporal compass.\n",
      "Compass loaded from file.\n",
      "Training temporal embeddings: slice /Users/horus/Library/CloudStorage/OneDrive-UniversityofToronto/CSC2611-NLPSC-Project/data/2012.txt.\n",
      "Initializing temporal embeddings from the atemporal compass.\n",
      "Compass loaded from file.\n",
      "Training temporal embeddings: slice /Users/horus/Library/CloudStorage/OneDrive-UniversityofToronto/CSC2611-NLPSC-Project/data/2013.txt.\n",
      "Initializing temporal embeddings from the atemporal compass.\n",
      "Compass loaded from file.\n",
      "Training temporal embeddings: slice /Users/horus/Library/CloudStorage/OneDrive-UniversityofToronto/CSC2611-NLPSC-Project/data/2014.txt.\n",
      "Initializing temporal embeddings from the atemporal compass.\n",
      "Compass loaded from file.\n",
      "Training temporal embeddings: slice /Users/horus/Library/CloudStorage/OneDrive-UniversityofToronto/CSC2611-NLPSC-Project/data/2015.txt.\n",
      "Initializing temporal embeddings from the atemporal compass.\n",
      "Compass loaded from file.\n",
      "Training temporal embeddings: slice /Users/horus/Library/CloudStorage/OneDrive-UniversityofToronto/CSC2611-NLPSC-Project/data/2016.txt.\n",
      "Initializing temporal embeddings from the atemporal compass.\n",
      "Compass loaded from file.\n",
      "Training temporal embeddings: slice /Users/horus/Library/CloudStorage/OneDrive-UniversityofToronto/CSC2611-NLPSC-Project/data/2017.txt.\n",
      "Initializing temporal embeddings from the atemporal compass.\n",
      "Compass loaded from file.\n",
      "Training temporal embeddings: slice /Users/horus/Library/CloudStorage/OneDrive-UniversityofToronto/CSC2611-NLPSC-Project/data/2018.txt.\n",
      "Initializing temporal embeddings from the atemporal compass.\n",
      "Compass loaded from file.\n",
      "Training temporal embeddings: slice /Users/horus/Library/CloudStorage/OneDrive-UniversityofToronto/CSC2611-NLPSC-Project/data/2019.txt.\n",
      "Initializing temporal embeddings from the atemporal compass.\n",
      "Compass loaded from file.\n",
      "Training temporal embeddings: slice /Users/horus/Library/CloudStorage/OneDrive-UniversityofToronto/CSC2611-NLPSC-Project/data/2020.txt.\n",
      "Initializing temporal embeddings from the atemporal compass.\n",
      "Compass loaded from file.\n",
      "Training temporal embeddings: slice /Users/horus/Library/CloudStorage/OneDrive-UniversityofToronto/CSC2611-NLPSC-Project/data/2021.txt.\n",
      "Initializing temporal embeddings from the atemporal compass.\n"
     ]
    }
   ],
   "source": [
    "DATA_PATH = PATH + \"data/\"\n",
    "for i in range(1994, 2022):\n",
    "    yr = str(i)\n",
    "    train_twec_and_save(yr, DATA_PATH)"
   ]
  },
  {
   "cell_type": "code",
   "execution_count": 2,
   "metadata": {},
   "outputs": [
    {
     "data": {
      "text/plain": [
       "28"
      ]
     },
     "execution_count": 2,
     "metadata": {},
     "output_type": "execute_result"
    }
   ],
   "source": [
    "from gensim.models.word2vec import Word2Vec\n",
    "\n",
    "PATH = \"/Users/horus/Library/CloudStorage/OneDrive-UniversityofToronto/CSC2611-NLPSC-Project/\"\n",
    "# load trained models\n",
    "all_twec_models = []\n",
    "for i in range(1994, 2022):\n",
    "    cur_model = Word2Vec.load(PATH + \"model/model\" + str(i) + \".model\")\n",
    "    all_twec_models.append(cur_model)\n",
    "len(all_twec_models)"
   ]
  },
  {
   "cell_type": "code",
   "execution_count": 7,
   "metadata": {},
   "outputs": [
    {
     "data": {
      "text/plain": [
       "219"
      ]
     },
     "execution_count": 7,
     "metadata": {},
     "output_type": "execute_result"
    }
   ],
   "source": [
    "with open(PATH+\"data/\"+\"compass.txt\", 'r') as f:    \n",
    "    set_of_mutual_word = set(f.read().split())\n",
    "    \n",
    "for i in range(1994, 2022):\n",
    "    with open(PATH+\"data/\"+str(i)+\".txt\", 'r') as f:\n",
    "        cur_year_word = set(f.read().split())\n",
    "    set_of_mutual_word = set_of_mutual_word.intersection(cur_year_word)\n",
    "len(set_of_mutual_word)"
   ]
  },
  {
   "cell_type": "code",
   "execution_count": 13,
   "metadata": {},
   "outputs": [
    {
     "name": "stderr",
     "output_type": "stream",
     "text": [
      "/var/folders/rb/fh4dwvps3nvd59fvw4jnl7dc0000gq/T/ipykernel_77391/3074927383.py:2: DeprecationWarning: Sampling from a set deprecated\n",
      "since Python 3.9 and will be removed in a subsequent version.\n",
      "  rdm.sample(set_of_mutual_word, k=2)\n"
     ]
    },
    {
     "data": {
      "text/plain": [
       "['research', 'corpora']"
      ]
     },
     "execution_count": 13,
     "metadata": {},
     "output_type": "execute_result"
    }
   ],
   "source": [
    "import random as rdm\n",
    "rdm.sample(set_of_mutual_word, k=2)"
   ]
  },
  {
   "cell_type": "code",
   "execution_count": 25,
   "metadata": {},
   "outputs": [
    {
     "name": "stdout",
     "output_type": "stream",
     "text": [
      "top most similar words to corpora in1994\n",
      "\n",
      "[('classifiers', 0.8091327548027039), ('medium', 0.8073739409446716), ('retrieval', 0.8039076328277588), ('critical', 0.8016821146011353), ('field', 0.7969892621040344)]\n",
      "top most similar words to corpora in1995\n",
      "\n",
      "[('moreover', 0.7615450024604797), ('tagset', 0.7577621340751648), ('single', 0.7345547080039978), ('hmm', 0.7270604372024536), ('produce', 0.7223924398422241)]\n",
      "top most similar words to corpora in1996\n",
      "\n",
      "[('relatively', 0.8147470951080322), ('justify', 0.7867305874824524), ('characteristics', 0.776759147644043), ('entries', 0.7715063691139221), ('size', 0.7695035338401794)]\n",
      "top most similar words to corpora in1997\n",
      "\n",
      "[('annotate', 0.7910854816436768), ('output', 0.7198154926300049), ('susanne', 0.7157365083694458), ('increase', 0.7155392169952393), ('treebank', 0.7139880657196045)]\n",
      "top most similar words to corpora in1998\n",
      "\n",
      "[('valuable', 0.9024375081062317), ('design', 0.8797941207885742), ('overview', 0.8771549463272095), ('page', 0.875018298625946), ('http', 0.8731009364128113)]\n",
      "top most similar words to corpora in1999\n",
      "\n",
      "[('annotate', 0.9097700715065002), ('large', 0.9095973968505859), ('hand', 0.893323540687561), ('cost', 0.8854026794433594), ('prohibitively', 0.8832980990409851)]\n",
      "top most similar words to corpora in2000\n",
      "\n",
      "[('demonstrate', 0.7741392850875854), ('corpus', 0.7614126205444336), ('conversations', 0.7507616281509399), ('ten', 0.7266353368759155), ('broadcast', 0.7248515486717224)]\n",
      "top most similar words to corpora in2001\n",
      "\n",
      "[('absolute', 0.8646387457847595), ('onto', 0.8538898825645447), ('dutch', 0.8535667061805725), ('exercise', 0.8529223799705505), ('scale', 0.8527350425720215)]\n",
      "top most similar words to corpora in2002\n",
      "\n",
      "[('students', 0.9192016124725342), ('row', 0.9187612533569336), ('resource', 0.9108956456184387), ('efforts', 0.9103044867515564), ('efficiently', 0.9070740938186646)]\n",
      "top most similar words to corpora in2003\n",
      "\n",
      "[('set', 0.8565286993980408), ('sentence', 0.8064826130867004), ('parallel', 0.7964531183242798), ('automatically', 0.7959851026535034), ('tree', 0.7949304580688477)]\n",
      "top most similar words to corpora in2004\n",
      "\n",
      "[('suggest', 0.9078540802001953), ('train', 0.8992303609848022), ('russian', 0.8981752991676331), ('source', 0.8977015614509583), ('pre', 0.8886469006538391)]\n",
      "top most similar words to corpora in2005\n",
      "\n",
      "[('exploit', 0.987324059009552), ('parallel', 0.9868977665901184), ('advance', 0.9811152219772339), ('phrase', 0.9770346283912659), ('nlp', 0.9729582071304321)]\n",
      "top most similar words to corpora in2006\n",
      "\n",
      "[('inspection', 0.9348945617675781), ('interfaces', 0.9341295957565308), ('consistency', 0.9338289499282837), ('aid', 0.926861584186554), ('implement', 0.9240715503692627)]\n",
      "top most similar words to corpora in2007\n",
      "\n",
      "[('randomly', 0.9189750552177429), ('involve', 0.901194155216217), ('realize', 0.8990177512168884), ('literature', 0.8972549438476562), ('compile', 0.8952231407165527)]\n",
      "top most similar words to corpora in2008\n",
      "\n",
      "[('query', 0.9296050667762756), ('filter', 0.9225832223892212), ('bilingual', 0.9222519397735596), ('list', 0.919376015663147), ('inexpensive', 0.9187350869178772)]\n",
      "top most similar words to corpora in2009\n",
      "\n",
      "[('hybrid', 0.8888594508171082), ('bilingual', 0.8885409832000732), ('kanji', 0.8873226046562195), ('twelve', 0.8818526864051819), ('units', 0.8790608048439026)]\n",
      "top most similar words to corpora in2010\n",
      "\n",
      "[('useful', 0.959705650806427), ('subtasks', 0.9410658478736877), ('pose', 0.9400416612625122), ('operationalized', 0.9385849833488464), ('alter', 0.932944655418396)]\n",
      "top most similar words to corpora in2011\n",
      "\n",
      "[('robot', 0.8216806054115295), ('lexica', 0.807701826095581), ('interfaces', 0.8058924674987793), ('raw', 0.8013240098953247), ('computationally', 0.8012996315956116)]\n",
      "top most similar words to corpora in2012\n",
      "\n",
      "[('japanese', 0.8266046643257141), ('morphologically', 0.8221012353897095), ('spanish', 0.8158510327339172), ('parallel', 0.8147318363189697), ('compositional', 0.8128079175949097)]\n",
      "top most similar words to corpora in2013\n",
      "\n",
      "[('parallel', 0.8111801147460938), ('annotate', 0.8016806244850159), ('resources', 0.7925862073898315), ('collection', 0.7570425868034363), ('publicly', 0.7288949489593506)]\n",
      "top most similar words to corpora in2014\n",
      "\n",
      "[('parallel', 0.77650386095047), ('corpus', 0.7404409050941467), ('available', 0.7280415296554565), ('dictionaries', 0.6819249987602234), ('bilingual', 0.6804713010787964)]\n",
      "top most similar words to corpora in2015\n",
      "\n",
      "[('parallel', 0.8540791869163513), ('ted', 0.7813702821731567), ('corpus', 0.7289420366287231), ('multilingual', 0.7135568857192993), ('align', 0.7083238959312439)]\n",
      "top most similar words to corpora in2016\n",
      "\n",
      "[('corpus', 0.838099479675293), ('parallel', 0.7993754148483276), ('monolingual', 0.7845719456672668), ('annotate', 0.69601970911026), ('data', 0.6917399168014526)]\n",
      "top most similar words to corpora in2017\n",
      "\n",
      "[('data', 0.8057650923728943), ('corpus', 0.7816169857978821), ('parallel', 0.7690030932426453), ('scarce', 0.6819820404052734), ('large', 0.679656982421875)]\n",
      "top most similar words to corpora in2018\n",
      "\n",
      "[('data', 0.8325467705726624), ('parallel', 0.8086588978767395), ('monolingual', 0.7594181299209595), ('corpus', 0.7580331563949585), ('resources', 0.7424963116645813)]\n",
      "top most similar words to corpora in2019\n",
      "\n",
      "[('data', 0.8043555617332458), ('corpus', 0.7898069024085999), ('unannotated', 0.7445744872093201), ('large', 0.7171968817710876), ('amount', 0.7141208648681641)]\n",
      "top most similar words to corpora in2020\n",
      "\n",
      "[('data', 0.782313346862793), ('corpus', 0.7587720155715942), ('monolingual', 0.7546788454055786), ('resources', 0.7254597544670105), ('amount', 0.7026640176773071)]\n",
      "top most similar words to corpora in2021\n",
      "\n",
      "[('data', 0.8084852695465088), ('parallel', 0.7786928415298462), ('corpus', 0.7753743529319763), ('monolingual', 0.7633024454116821), ('amount', 0.7607675194740295)]\n"
     ]
    }
   ],
   "source": [
    "#vec = {}\n",
    "sims = {}\n",
    "WORD = \"corpora\"\n",
    "for i, model in enumerate(all_twec_models):\n",
    "    # every year, model is loaded same as gensim.Word2Vec KeyedVector instances\n",
    "    # vec[] = model.wv[\"corpora\"] # word = \"deep\"\n",
    "    sims = model.wv.most_similar(WORD, topn=5)\n",
    "#vec\n",
    "    print(f\"top most similar words to {WORD} in\" + str(1994+i) + '\\n')\n",
    "    print(sims)"
   ]
  }
 ],
 "metadata": {
  "kernelspec": {
   "display_name": "Python 3 (ipykernel)",
   "language": "python",
   "name": "python3"
  },
  "language_info": {
   "codemirror_mode": {
    "name": "ipython",
    "version": 3
   },
   "file_extension": ".py",
   "mimetype": "text/x-python",
   "name": "python",
   "nbconvert_exporter": "python",
   "pygments_lexer": "ipython3",
   "version": "3.9.13"
  },
  "vscode": {
   "interpreter": {
    "hash": "02c72f4152c414c9735740d431438b040c0e6923d78441875018fc70eef58a54"
   }
  }
 },
 "nbformat": 4,
 "nbformat_minor": 2
}
